{
 "cells": [
  {
   "cell_type": "code",
   "execution_count": 21,
   "metadata": {
    "collapsed": true
   },
   "outputs": [],
   "source": [
    "import pandas as pd\n",
    "import json"
   ]
  },
  {
   "cell_type": "code",
   "execution_count": 16,
   "metadata": {
    "collapsed": false
   },
   "outputs": [],
   "source": [
    "schools = pd.read_json('https://stem-mentoring.firebaseio.com/school.json')\n",
    "cities = pd.read_json('https://stem-mentoring.firebaseio.com/cities.json')\n",
    "students = pd.read_json('https://stem-mentoring.firebaseio.com/students.json').T\n",
    "confirm = pd.read_json('https://stem-mentoring.firebaseio.com/confirm.json').T"
   ]
  },
  {
   "cell_type": "code",
   "execution_count": 20,
   "metadata": {
    "collapsed": false
   },
   "outputs": [
    {
     "data": {
      "text/plain": [
       "-KJhoiAS6gSOwK88N8I5    {'value': '민족사관고등학교', 'city': 116, 'label': '민...\n",
       "-KJhyVFWtRFSeyX6dQSN    {'value': '삼천포고등학교', 'city': 220, 'label': '삼천...\n",
       "-KJjUTe8dw4VYTH6BKox    {'value': '분당대진고등학교', 'city': 89, 'label': '분당...\n",
       "-KJkhkp_AspAs-T45btZ    {'value': '안양외국어고등학교', 'city': 92, 'label': '안...\n",
       "-KK4NO6eWu0VfJJHwSI4    {'value': '서울과학고등학교', 'city': 8, 'label': '서울과...\n",
       "-KK4TVE6AYraXEIrljzk    {'value': '대원외국어고등학교', 'city': 6, 'label': '대원...\n",
       "-KK4W3jhhEOOrzcWFnb5    {'value': '서울과학고등학교', 'city': 8, 'label': '서울과...\n",
       "-KK4X7ljrrT2t2xbfIBV    {'value': '서울과학고등학교', 'city': 8, 'label': '서울과...\n",
       "-KK4YzhzayPCuXCBhYfg    {'value': '서울고등학교', 'city': 18, 'label': '서울고등...\n",
       "-KKZYpNQoRqQ28tLFHT_    {'value': '경남과학고등학교', 'city': 216, 'label': '경...\n",
       "Name: school, dtype: object"
      ]
     },
     "execution_count": 20,
     "metadata": {},
     "output_type": "execute_result"
    }
   ],
   "source": [
    "students.school.map(lambda x:json.loads(x))"
   ]
  }
 ],
 "metadata": {
  "kernelspec": {
   "display_name": "Python 3",
   "language": "python",
   "name": "python3"
  },
  "language_info": {
   "codemirror_mode": {
    "name": "ipython",
    "version": 3
   },
   "file_extension": ".py",
   "mimetype": "text/x-python",
   "name": "python",
   "nbconvert_exporter": "python",
   "pygments_lexer": "ipython3",
   "version": "3.5.1"
  }
 },
 "nbformat": 4,
 "nbformat_minor": 0
}
