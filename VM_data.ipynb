{
 "cells": [
  {
   "cell_type": "code",
   "execution_count": null,
   "metadata": {
    "collapsed": true
   },
   "outputs": [],
   "source": [
    "import pandas as pd"
   ]
  },
  {
   "cell_type": "code",
   "execution_count": null,
   "metadata": {
    "collapsed": false
   },
   "outputs": [],
   "source": [
    "schools = pd.read_json('https://stem-mentoring.firebaseio.com/school.json')\n",
    "cities = pd.read_json('https://stem-mentoring.firebaseio.com/cities.json')\n",
    "students = pd.read_json('https://stem-mentoring.firebaseio.com/students.json').T\n",
    "confirm = pd.read_json('https://stem-mentoring.firebaseio.com/confirm.json').T"
   ]
  },
  {
   "cell_type": "code",
   "execution_count": null,
   "metadata": {
    "collapsed": false
   },
   "outputs": [],
   "source": [
    "students['school_id'] = students.school.map(lambda x:x['id'])\n",
    "students['school_name'] = students.school.map(lambda x:x['label'])\n",
    "students['city_id'] = students.school.map(lambda x:x['city'])"
   ]
  },
  {
   "cell_type": "code",
   "execution_count": null,
   "metadata": {
    "collapsed": true
   },
   "outputs": [],
   "source": [
    "students.columns"
   ]
  },
  {
   "cell_type": "markdown",
   "metadata": {
    "collapsed": false
   },
   "source": [
    "# The content below is real code that generates list of participants."
   ]
  },
  {
   "cell_type": "code",
   "execution_count": null,
   "metadata": {
    "collapsed": false
   },
   "outputs": [],
   "source": [
    "students = pd.read_json('https://stem-mentoring.firebaseio.com/students.json').T\n",
    "students['school_name'] = students.school.map(lambda x:x['value'])\n",
    "register_list = students[['school_name', 'order', 'name', 'grade', 'phone', 'guardian_name', 'guardian_phone', 'interests', 'motivation', 'timestamp']].sort_values(['school_name', 'order'])\n",
    "register_list.to_excel('명단.xlsx', header=['학교', '순번', '이름', '학년', '연락처', '보호자', '보호자 연락처', '관심 학과', '동기', '접수 시간'], index=False)"
   ]
  }
 ],
 "metadata": {
  "kernelspec": {
   "display_name": "Python 3",
   "language": "python",
   "name": "python3"
  },
  "language_info": {
   "codemirror_mode": {
    "name": "ipython",
    "version": 3
   },
   "file_extension": ".py",
   "mimetype": "text/x-python",
   "name": "python",
   "nbconvert_exporter": "python",
   "pygments_lexer": "ipython3",
   "version": "3.5.1"
  }
 },
 "nbformat": 4,
 "nbformat_minor": 0
}
