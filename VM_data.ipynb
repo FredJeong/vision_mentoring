{
 "cells": [
  {
   "cell_type": "code",
   "execution_count": null,
   "metadata": {
    "collapsed": true
   },
   "outputs": [],
   "source": [
    "import pandas as pd"
   ]
  },
  {
   "cell_type": "code",
   "execution_count": null,
   "metadata": {
    "collapsed": true
   },
   "outputs": [],
   "source": [
    "schools = pd.read_json('https://stem-mentoring.firebaseio.com/school.json')\n",
    "cities = pd.read_json('https://stem-mentoring.firebaseio.com/cities.json')\n",
    "students = pd.read_json('https://stem-mentoring.firebaseio.com/students.json').T\n",
    "confirm = pd.read_json('https://stem-mentoring.firebaseio.com/confirm.json').T"
   ]
  },
  {
   "cell_type": "code",
   "execution_count": null,
   "metadata": {
    "collapsed": true
   },
   "outputs": [],
   "source": [
    "students['school_id'] = students.school.map(lambda x:x['id'])\n",
    "students['school_name'] = students.school.map(lambda x:x['label'])\n",
    "students['city_id'] = students.school.map(lambda x:x['city'])"
   ]
  },
  {
   "cell_type": "code",
   "execution_count": null,
   "metadata": {
    "collapsed": true
   },
   "outputs": [],
   "source": [
    "students.columns"
   ]
  },
  {
   "cell_type": "markdown",
   "metadata": {},
   "source": [
    "# The content below is real code that generates list of participants."
   ]
  },
  {
   "cell_type": "code",
   "execution_count": null,
   "metadata": {
    "collapsed": true
   },
   "outputs": [],
   "source": [
    "import pandas as pd\n",
    "students = pd.read_json('https://stem-mentoring.firebaseio.com/students.json').T\n",
    "students['school_name'] = students.school.map(lambda x:x['value'])\n",
    "register_list = students[['school_name', 'order', 'name', 'grade', 'phone', 'guardian_name', 'guardian_phone', 'interests', 'motivation', 'question', 'timestamp']].sort_values(['school_name', 'order'])\n",
    "register_list.to_excel('명단.xlsx', header=['학교', '순번', '이름', '학년', '연락처', '보호자', '보호자 연락처', '관심 학과', '동기', '질문', '접수 시간'], index=False)"
   ]
  },
  {
   "cell_type": "markdown",
   "metadata": {},
   "source": [
    "## 학교 목록 csv 파일로부터 json을 생성합니다. 매년 멘토링 전 한 번만 하세요!"
   ]
  },
  {
   "cell_type": "code",
   "execution_count": null,
   "metadata": {},
   "outputs": [],
   "source": [
    "import csv\n",
    "from collections import defaultdict\n",
    "import json\n",
    "\n",
    "with open('cities.json', 'r') as cityfile:\n",
    "    cities = json.loads(cityfile.read())\n",
    "\n",
    "code_ref = defaultdict(dict)\n",
    "\n",
    "for city in cities:\n",
    "    code_ref[city['province']][city['city']] = city['city_id']\n",
    "\n",
    "keys = ('시도','행정구','학교명','도로명주소')\n",
    "\n",
    "schools = []\n",
    "name_collection = defaultdict(list)\n",
    "\n",
    "\n",
    "with open('list.csv', 'r') as csvfile:\n",
    "    reader = csv.reader(csvfile, delimiter=',')\n",
    "    title = next(reader)\n",
    "    PROV = title.index(keys[0])\n",
    "    CITY = title.index(keys[1])\n",
    "    NAME = title.index(keys[2])\n",
    "    ADDR = title.index(keys[3])\n",
    "\n",
    "    for row in reader:\n",
    "        schools.append({\n",
    "            'city_id': code_ref[row[PROV]][row[CITY]],\n",
    "            'count': 0,\n",
    "            'name': row[NAME],\n",
    "            'id': reader.line_num - 2\n",
    "        })\n",
    "        name_collection[row[NAME]].append(len(schools)-1)\n",
    "\n",
    "for k, v in name_collection.items():\n",
    "    if len(v) > 1:\n",
    "        print(k, '(%d)' % len(v), end=': ')\n",
    "        for i in v:\n",
    "            schools[i]['name'] += ' (%s)' % (cities[schools[i]['city_id']]['city'])\n",
    "            print (schools[i]['name'], end=', ')\n",
    "        print()\n",
    "\n",
    "with open('schools.json', 'w') as schoolfile:\n",
    "    json.dump(schools, schoolfile, ensure_ascii=False, indent=2)"
   ]
  },
  {
   "cell_type": "code",
   "execution_count": null,
   "metadata": {
    "collapsed": true
   },
   "outputs": [],
   "source": [
    "#recover city list\n",
    "\n",
    "import csv\n",
    "from collections import defaultdict\n",
    "import json\n",
    "\n",
    "keys = ('시도','행정구','학교명')\n",
    "\n",
    "\n",
    "cities = []\n",
    "\n",
    "with open('list.csv', 'r') as csvfile:\n",
    "    reader = csv.reader(csvfile, delimiter=',')\n",
    "    title = next(reader)\n",
    "    PROV = title.index(keys[0])\n",
    "    CITY = title.index(keys[1])\n",
    "    for row in reader:\n",
    "        district = '%s/%s' % (row[PROV], row[CITY])\n",
    "        if district not in cities:\n",
    "            cities.append(district)\n",
    "for i in range(len(cities)):\n",
    "    info = cities[i].split('/')\n",
    "    cities[i] = {\n",
    "        'city_id': i,\n",
    "        'city': info[1],\n",
    "        'province': info[0]\n",
    "    }\n",
    "\n",
    "with open('cities.json', 'w') as cityfile:\n",
    "    json.dump(cities, cityfile, ensure_ascii=False, indent=2)\n",
    "    "
   ]
  },
  {
   "cell_type": "code",
   "execution_count": null,
   "metadata": {
    "collapsed": true
   },
   "outputs": [],
   "source": []
  }
 ],
 "metadata": {
  "kernelspec": {
   "display_name": "Python 3",
   "language": "python",
   "name": "python3"
  },
  "language_info": {
   "codemirror_mode": {
    "name": "ipython",
    "version": 3
   },
   "file_extension": ".py",
   "mimetype": "text/x-python",
   "name": "python",
   "nbconvert_exporter": "python",
   "pygments_lexer": "ipython3",
   "version": "3.6.1"
  }
 },
 "nbformat": 4,
 "nbformat_minor": 1
}
